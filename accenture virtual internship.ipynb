{
 "cells": [
  {
   "cell_type": "code",
   "execution_count": 24,
   "id": "71e8af46",
   "metadata": {},
   "outputs": [],
   "source": [
    "import pandas as pd\n",
    "import numpy as np\n",
    "import matplotlib.pyplot as plt\n",
    "%matplotlib inline\n",
    "import seaborn as sns"
   ]
  },
  {
   "cell_type": "markdown",
   "id": "b85876b6",
   "metadata": {},
   "source": [
    "loading datasts"
   ]
  },
  {
   "cell_type": "code",
   "execution_count": 25,
   "id": "f562767b",
   "metadata": {},
   "outputs": [],
   "source": [
    "content = pd.read_csv(r'C:\\Users\\Pratiksha Singh\\Desktop\\real project dataanaly/Content.csv')\n",
    "reactions = pd.read_csv(r'C:\\Users\\Pratiksha Singh\\Desktop\\real project dataanaly/Reactions.csv')\n",
    "reaction_types = pd.read_csv(r'C:\\Users\\Pratiksha Singh\\Desktop\\real project dataanaly/ReactionTypes.csv')"
   ]
  },
  {
   "cell_type": "code",
   "execution_count": 26,
   "id": "66290cc2",
   "metadata": {},
   "outputs": [
    {
     "data": {
      "text/plain": [
       "Index(['Unnamed: 0', 'Content ID', ' ContentType', 'Category'], dtype='object')"
      ]
     },
     "execution_count": 26,
     "metadata": {},
     "output_type": "execute_result"
    }
   ],
   "source": [
    "content.columns\n"
   ]
  },
  {
   "cell_type": "code",
   "execution_count": 30,
   "id": "907e429b",
   "metadata": {},
   "outputs": [
    {
     "data": {
      "text/plain": [
       "Index(['Unnamed: 0', 'Content ID', 'Type', 'Datetime'], dtype='object')"
      ]
     },
     "execution_count": 30,
     "metadata": {},
     "output_type": "execute_result"
    }
   ],
   "source": [
    "reactions.columns"
   ]
  },
  {
   "cell_type": "code",
   "execution_count": 29,
   "id": "ffc81e9a",
   "metadata": {},
   "outputs": [
    {
     "data": {
      "text/plain": [
       "Index(['Unnamed: 0', 'Type', 'Sentiment', 'Score'], dtype='object')"
      ]
     },
     "execution_count": 29,
     "metadata": {},
     "output_type": "execute_result"
    }
   ],
   "source": [
    "reaction_types.columns"
   ]
  },
  {
   "cell_type": "code",
   "execution_count": 31,
   "id": "460abb2d",
   "metadata": {},
   "outputs": [],
   "source": [
    "# Merging of columns\n",
    "reactions = reactions.merge(content[[\"Content ID\",'Category']], left_on=\"Content ID\", right_on=\"Content ID\", how='inner')"
   ]
  },
  {
   "cell_type": "code",
   "execution_count": 32,
   "id": "1512aa7f",
   "metadata": {},
   "outputs": [
    {
     "data": {
      "text/html": [
       "<div>\n",
       "<style scoped>\n",
       "    .dataframe tbody tr th:only-of-type {\n",
       "        vertical-align: middle;\n",
       "    }\n",
       "\n",
       "    .dataframe tbody tr th {\n",
       "        vertical-align: top;\n",
       "    }\n",
       "\n",
       "    .dataframe thead th {\n",
       "        text-align: right;\n",
       "    }\n",
       "</style>\n",
       "<table border=\"1\" class=\"dataframe\">\n",
       "  <thead>\n",
       "    <tr style=\"text-align: right;\">\n",
       "      <th></th>\n",
       "      <th>Unnamed: 0</th>\n",
       "      <th>Content ID</th>\n",
       "      <th>Type</th>\n",
       "      <th>Datetime</th>\n",
       "      <th>Category</th>\n",
       "    </tr>\n",
       "  </thead>\n",
       "  <tbody>\n",
       "    <tr>\n",
       "      <th>0</th>\n",
       "      <td>1</td>\n",
       "      <td>97522e57-d9ab-4bd6-97bf-c24d952602d2</td>\n",
       "      <td>disgust</td>\n",
       "      <td>07 November 2020</td>\n",
       "      <td>Studying</td>\n",
       "    </tr>\n",
       "    <tr>\n",
       "      <th>1</th>\n",
       "      <td>2</td>\n",
       "      <td>97522e57-d9ab-4bd6-97bf-c24d952602d2</td>\n",
       "      <td>dislike</td>\n",
       "      <td>17 June 2021</td>\n",
       "      <td>Studying</td>\n",
       "    </tr>\n",
       "    <tr>\n",
       "      <th>2</th>\n",
       "      <td>3</td>\n",
       "      <td>97522e57-d9ab-4bd6-97bf-c24d952602d2</td>\n",
       "      <td>scared</td>\n",
       "      <td>18 April 2021</td>\n",
       "      <td>Studying</td>\n",
       "    </tr>\n",
       "  </tbody>\n",
       "</table>\n",
       "</div>"
      ],
      "text/plain": [
       "   Unnamed: 0                            Content ID     Type  \\\n",
       "0           1  97522e57-d9ab-4bd6-97bf-c24d952602d2  disgust   \n",
       "1           2  97522e57-d9ab-4bd6-97bf-c24d952602d2  dislike   \n",
       "2           3  97522e57-d9ab-4bd6-97bf-c24d952602d2   scared   \n",
       "\n",
       "           Datetime  Category  \n",
       "0  07 November 2020  Studying  \n",
       "1      17 June 2021  Studying  \n",
       "2     18 April 2021  Studying  "
      ]
     },
     "execution_count": 32,
     "metadata": {},
     "output_type": "execute_result"
    }
   ],
   "source": [
    "reactions.head(3)"
   ]
  },
  {
   "cell_type": "code",
   "execution_count": 33,
   "id": "36197867",
   "metadata": {},
   "outputs": [],
   "source": [
    "reactions = reactions.merge(reactiontypes[[\"Type\",'Score']], left_on=\"Type\", right_on=\"Type\", how=\"inner\")"
   ]
  },
  {
   "cell_type": "code",
   "execution_count": 34,
   "id": "a18ee75b",
   "metadata": {},
   "outputs": [
    {
     "data": {
      "text/html": [
       "<div>\n",
       "<style scoped>\n",
       "    .dataframe tbody tr th:only-of-type {\n",
       "        vertical-align: middle;\n",
       "    }\n",
       "\n",
       "    .dataframe tbody tr th {\n",
       "        vertical-align: top;\n",
       "    }\n",
       "\n",
       "    .dataframe thead th {\n",
       "        text-align: right;\n",
       "    }\n",
       "</style>\n",
       "<table border=\"1\" class=\"dataframe\">\n",
       "  <thead>\n",
       "    <tr style=\"text-align: right;\">\n",
       "      <th></th>\n",
       "      <th>Unnamed: 0</th>\n",
       "      <th>Content ID</th>\n",
       "      <th>Type</th>\n",
       "      <th>Datetime</th>\n",
       "      <th>Category</th>\n",
       "      <th>Score</th>\n",
       "    </tr>\n",
       "  </thead>\n",
       "  <tbody>\n",
       "    <tr>\n",
       "      <th>0</th>\n",
       "      <td>1</td>\n",
       "      <td>97522e57-d9ab-4bd6-97bf-c24d952602d2</td>\n",
       "      <td>disgust</td>\n",
       "      <td>07 November 2020</td>\n",
       "      <td>Studying</td>\n",
       "      <td>0</td>\n",
       "    </tr>\n",
       "    <tr>\n",
       "      <th>1</th>\n",
       "      <td>1</td>\n",
       "      <td>97522e57-d9ab-4bd6-97bf-c24d952602d2</td>\n",
       "      <td>disgust</td>\n",
       "      <td>07 November 2020</td>\n",
       "      <td>Studying</td>\n",
       "      <td>0</td>\n",
       "    </tr>\n",
       "    <tr>\n",
       "      <th>2</th>\n",
       "      <td>1</td>\n",
       "      <td>97522e57-d9ab-4bd6-97bf-c24d952602d2</td>\n",
       "      <td>disgust</td>\n",
       "      <td>07 November 2020</td>\n",
       "      <td>Studying</td>\n",
       "      <td>0</td>\n",
       "    </tr>\n",
       "  </tbody>\n",
       "</table>\n",
       "</div>"
      ],
      "text/plain": [
       "   Unnamed: 0                            Content ID     Type  \\\n",
       "0           1  97522e57-d9ab-4bd6-97bf-c24d952602d2  disgust   \n",
       "1           1  97522e57-d9ab-4bd6-97bf-c24d952602d2  disgust   \n",
       "2           1  97522e57-d9ab-4bd6-97bf-c24d952602d2  disgust   \n",
       "\n",
       "           Datetime  Category  Score  \n",
       "0  07 November 2020  Studying      0  \n",
       "1  07 November 2020  Studying      0  \n",
       "2  07 November 2020  Studying      0  "
      ]
     },
     "execution_count": 34,
     "metadata": {},
     "output_type": "execute_result"
    }
   ],
   "source": [
    "reactions.head(3)"
   ]
  },
  {
   "cell_type": "code",
   "execution_count": 39,
   "id": "df220c6f",
   "metadata": {},
   "outputs": [],
   "source": [
    "reactiontypes = reactions.copy()"
   ]
  },
  {
   "cell_type": "code",
   "execution_count": 40,
   "id": "214c8a06",
   "metadata": {},
   "outputs": [
    {
     "data": {
      "text/html": [
       "<div>\n",
       "<style scoped>\n",
       "    .dataframe tbody tr th:only-of-type {\n",
       "        vertical-align: middle;\n",
       "    }\n",
       "\n",
       "    .dataframe tbody tr th {\n",
       "        vertical-align: top;\n",
       "    }\n",
       "\n",
       "    .dataframe thead th {\n",
       "        text-align: right;\n",
       "    }\n",
       "</style>\n",
       "<table border=\"1\" class=\"dataframe\">\n",
       "  <thead>\n",
       "    <tr style=\"text-align: right;\">\n",
       "      <th></th>\n",
       "      <th>Unnamed: 0</th>\n",
       "      <th>Content ID</th>\n",
       "      <th>Type</th>\n",
       "      <th>Datetime</th>\n",
       "      <th>Category</th>\n",
       "      <th>Score</th>\n",
       "    </tr>\n",
       "  </thead>\n",
       "  <tbody>\n",
       "    <tr>\n",
       "      <th>0</th>\n",
       "      <td>1</td>\n",
       "      <td>97522e57-d9ab-4bd6-97bf-c24d952602d2</td>\n",
       "      <td>disgust</td>\n",
       "      <td>07 November 2020</td>\n",
       "      <td>Studying</td>\n",
       "      <td>0</td>\n",
       "    </tr>\n",
       "    <tr>\n",
       "      <th>1</th>\n",
       "      <td>1</td>\n",
       "      <td>97522e57-d9ab-4bd6-97bf-c24d952602d2</td>\n",
       "      <td>disgust</td>\n",
       "      <td>07 November 2020</td>\n",
       "      <td>Studying</td>\n",
       "      <td>0</td>\n",
       "    </tr>\n",
       "    <tr>\n",
       "      <th>2</th>\n",
       "      <td>1</td>\n",
       "      <td>97522e57-d9ab-4bd6-97bf-c24d952602d2</td>\n",
       "      <td>disgust</td>\n",
       "      <td>07 November 2020</td>\n",
       "      <td>Studying</td>\n",
       "      <td>0</td>\n",
       "    </tr>\n",
       "    <tr>\n",
       "      <th>3</th>\n",
       "      <td>1</td>\n",
       "      <td>97522e57-d9ab-4bd6-97bf-c24d952602d2</td>\n",
       "      <td>disgust</td>\n",
       "      <td>07 November 2020</td>\n",
       "      <td>Studying</td>\n",
       "      <td>0</td>\n",
       "    </tr>\n",
       "    <tr>\n",
       "      <th>4</th>\n",
       "      <td>1</td>\n",
       "      <td>97522e57-d9ab-4bd6-97bf-c24d952602d2</td>\n",
       "      <td>disgust</td>\n",
       "      <td>07 November 2020</td>\n",
       "      <td>Studying</td>\n",
       "      <td>0</td>\n",
       "    </tr>\n",
       "    <tr>\n",
       "      <th>...</th>\n",
       "      <td>...</td>\n",
       "      <td>...</td>\n",
       "      <td>...</td>\n",
       "      <td>...</td>\n",
       "      <td>...</td>\n",
       "      <td>...</td>\n",
       "    </tr>\n",
       "    <tr>\n",
       "      <th>37757150</th>\n",
       "      <td>25531</td>\n",
       "      <td>4e4c9690-c013-4ee7-9e66-943d8cbd27b7</td>\n",
       "      <td>adore</td>\n",
       "      <td>17 December 2020</td>\n",
       "      <td>culture</td>\n",
       "      <td>72</td>\n",
       "    </tr>\n",
       "    <tr>\n",
       "      <th>37757151</th>\n",
       "      <td>25531</td>\n",
       "      <td>4e4c9690-c013-4ee7-9e66-943d8cbd27b7</td>\n",
       "      <td>adore</td>\n",
       "      <td>17 December 2020</td>\n",
       "      <td>culture</td>\n",
       "      <td>72</td>\n",
       "    </tr>\n",
       "    <tr>\n",
       "      <th>37757152</th>\n",
       "      <td>25531</td>\n",
       "      <td>4e4c9690-c013-4ee7-9e66-943d8cbd27b7</td>\n",
       "      <td>adore</td>\n",
       "      <td>17 December 2020</td>\n",
       "      <td>culture</td>\n",
       "      <td>72</td>\n",
       "    </tr>\n",
       "    <tr>\n",
       "      <th>37757153</th>\n",
       "      <td>25531</td>\n",
       "      <td>4e4c9690-c013-4ee7-9e66-943d8cbd27b7</td>\n",
       "      <td>adore</td>\n",
       "      <td>17 December 2020</td>\n",
       "      <td>culture</td>\n",
       "      <td>72</td>\n",
       "    </tr>\n",
       "    <tr>\n",
       "      <th>37757154</th>\n",
       "      <td>25531</td>\n",
       "      <td>4e4c9690-c013-4ee7-9e66-943d8cbd27b7</td>\n",
       "      <td>adore</td>\n",
       "      <td>17 December 2020</td>\n",
       "      <td>culture</td>\n",
       "      <td>72</td>\n",
       "    </tr>\n",
       "  </tbody>\n",
       "</table>\n",
       "<p>37757155 rows × 6 columns</p>\n",
       "</div>"
      ],
      "text/plain": [
       "          Unnamed: 0                            Content ID     Type  \\\n",
       "0                  1  97522e57-d9ab-4bd6-97bf-c24d952602d2  disgust   \n",
       "1                  1  97522e57-d9ab-4bd6-97bf-c24d952602d2  disgust   \n",
       "2                  1  97522e57-d9ab-4bd6-97bf-c24d952602d2  disgust   \n",
       "3                  1  97522e57-d9ab-4bd6-97bf-c24d952602d2  disgust   \n",
       "4                  1  97522e57-d9ab-4bd6-97bf-c24d952602d2  disgust   \n",
       "...              ...                                   ...      ...   \n",
       "37757150       25531  4e4c9690-c013-4ee7-9e66-943d8cbd27b7    adore   \n",
       "37757151       25531  4e4c9690-c013-4ee7-9e66-943d8cbd27b7    adore   \n",
       "37757152       25531  4e4c9690-c013-4ee7-9e66-943d8cbd27b7    adore   \n",
       "37757153       25531  4e4c9690-c013-4ee7-9e66-943d8cbd27b7    adore   \n",
       "37757154       25531  4e4c9690-c013-4ee7-9e66-943d8cbd27b7    adore   \n",
       "\n",
       "                  Datetime  Category  Score  \n",
       "0         07 November 2020  Studying      0  \n",
       "1         07 November 2020  Studying      0  \n",
       "2         07 November 2020  Studying      0  \n",
       "3         07 November 2020  Studying      0  \n",
       "4         07 November 2020  Studying      0  \n",
       "...                    ...       ...    ...  \n",
       "37757150  17 December 2020   culture     72  \n",
       "37757151  17 December 2020   culture     72  \n",
       "37757152  17 December 2020   culture     72  \n",
       "37757153  17 December 2020   culture     72  \n",
       "37757154  17 December 2020   culture     72  \n",
       "\n",
       "[37757155 rows x 6 columns]"
      ]
     },
     "execution_count": 40,
     "metadata": {},
     "output_type": "execute_result"
    }
   ],
   "source": [
    "reactiontypes"
   ]
  },
  {
   "cell_type": "code",
   "execution_count": 41,
   "id": "ac2fc0fc",
   "metadata": {},
   "outputs": [
    {
     "data": {
      "text/plain": [
       "'veganism'"
      ]
     },
     "execution_count": 41,
     "metadata": {},
     "output_type": "execute_result"
    }
   ],
   "source": [
    "reactiontypes[\"Category\"].max()"
   ]
  },
  {
   "cell_type": "code",
   "execution_count": null,
   "id": "237273a7",
   "metadata": {},
   "outputs": [],
   "source": []
  },
  {
   "cell_type": "code",
   "execution_count": 45,
   "id": "4eba6ea8",
   "metadata": {},
   "outputs": [
    {
     "data": {
      "text/plain": [
       "Unnamed: 0    0\n",
       "Content ID    0\n",
       "Type          0\n",
       "Datetime      0\n",
       "Category      0\n",
       "Score         0\n",
       "dtype: int64"
      ]
     },
     "execution_count": 45,
     "metadata": {},
     "output_type": "execute_result"
    }
   ],
   "source": [
    "reactiontypes.isnull().sum()"
   ]
  },
  {
   "cell_type": "code",
   "execution_count": 47,
   "id": "78600743",
   "metadata": {},
   "outputs": [],
   "source": [
    "#Groupby calculation\n",
    "reactions = reactions.groupby(\"Category\")[\"Score\"].sum()"
   ]
  },
  {
   "cell_type": "code",
   "execution_count": 48,
   "id": "8f5d68c4",
   "metadata": {},
   "outputs": [],
   "source": [
    "reactions = reactions.sort_values(ascending=False)"
   ]
  },
  {
   "cell_type": "code",
   "execution_count": 49,
   "id": "e5bf2c48",
   "metadata": {},
   "outputs": [],
   "source": [
    "reaction.to_csv(\"cleaned_data.csv\")"
   ]
  },
  {
   "cell_type": "code",
   "execution_count": 55,
   "id": "2c73a17d",
   "metadata": {},
   "outputs": [
    {
     "data": {
      "image/png": "[encoded data removed]",
      "text/plain": [
       "<Figure size 640x480 with 1 Axes>"
      ]
     },
     "metadata": {},
     "output_type": "display_data"
    }
   ],
   "source": [
    "# Plot the values\n",
    "\n",
    "y = reactions.values\n",
    "y = y[:5]\n",
    "x = reactions.index\n",
    "x = x[:5]\n",
    "plt.bar(x,y)\n",
    "plt.ylabel(\"Total Score\",fontsize = 16,color=\"black\")\n",
    "plt.xlabel(\"Category\",fontsize = 16,color=\"black\")\n",
    "plt.show() "
   ]
  },
  {
   "cell_type": "code",
   "execution_count": 56,
   "id": "a0c97e01",
   "metadata": {},
   "outputs": [],
   "source": [
    "# Changing it to a respective date format\n",
    "reactiontypes['Datetime'] = pd.to_datetime(reactiontypes['Datetime'] ,infer_datetime_format=True)"
   ]
  },
  {
   "cell_type": "code",
   "execution_count": 57,
   "id": "a87be008",
   "metadata": {},
   "outputs": [
    {
     "data": {
      "text/plain": [
       "0          2020-11-07\n",
       "1          2020-11-07\n",
       "2          2020-11-07\n",
       "3          2020-11-07\n",
       "4          2020-11-07\n",
       "              ...    \n",
       "37757150   2020-12-17\n",
       "37757151   2020-12-17\n",
       "37757152   2020-12-17\n",
       "37757153   2020-12-17\n",
       "37757154   2020-12-17\n",
       "Name: Datetime, Length: 37757155, dtype: datetime64[ns]"
      ]
     },
     "execution_count": 57,
     "metadata": {},
     "output_type": "execute_result"
    }
   ],
   "source": [
    "reactiontypes[\"Datetime\"]"
   ]
  },
  {
   "cell_type": "code",
   "execution_count": 58,
   "id": "57afe62f",
   "metadata": {},
   "outputs": [],
   "source": [
    "reactiontypes[\"Month\"] = reactiontypes[\"Datetime\"].dt.month"
   ]
  },
  {
   "cell_type": "code",
   "execution_count": 59,
   "id": "72e55ceb",
   "metadata": {},
   "outputs": [
    {
     "data": {
      "text/plain": [
       "0           11\n",
       "1           11\n",
       "2           11\n",
       "3           11\n",
       "4           11\n",
       "            ..\n",
       "37757150    12\n",
       "37757151    12\n",
       "37757152    12\n",
       "37757153    12\n",
       "37757154    12\n",
       "Name: Month, Length: 37757155, dtype: int64"
      ]
     },
     "execution_count": 59,
     "metadata": {},
     "output_type": "execute_result"
    }
   ],
   "source": [
    "reactiontypes[\"Month\"]"
   ]
  },
  {
   "cell_type": "code",
   "execution_count": 60,
   "id": "d4ba7b25",
   "metadata": {},
   "outputs": [],
   "source": [
    "data = reactiontypes.copy()"
   ]
  },
  {
   "cell_type": "code",
   "execution_count": 61,
   "id": "fc294581",
   "metadata": {},
   "outputs": [
    {
     "data": {
      "text/plain": [
       "Unnamed: 0    0\n",
       "Content ID    0\n",
       "Type          0\n",
       "Datetime      0\n",
       "Category      0\n",
       "Score         0\n",
       "Month         0\n",
       "dtype: int64"
      ]
     },
     "execution_count": 61,
     "metadata": {},
     "output_type": "execute_result"
    }
   ],
   "source": [
    "data.isnull().sum()"
   ]
  },
  {
   "cell_type": "code",
   "execution_count": 62,
   "id": "d7497530",
   "metadata": {},
   "outputs": [],
   "source": [
    "data[\"Count\"] = data.groupby('Month')['Month'].transform('count')"
   ]
  },
  {
   "cell_type": "code",
   "execution_count": 63,
   "id": "d20deeeb",
   "metadata": {},
   "outputs": [],
   "source": [
    "data =data.drop_duplicates(subset=[\"Month\"])"
   ]
  },
  {
   "cell_type": "code",
   "execution_count": 64,
   "id": "5de054e1",
   "metadata": {},
   "outputs": [
    {
     "data": {
      "text/html": [
       "<div>\n",
       "<style scoped>\n",
       "    .dataframe tbody tr th:only-of-type {\n",
       "        vertical-align: middle;\n",
       "    }\n",
       "\n",
       "    .dataframe tbody tr th {\n",
       "        vertical-align: top;\n",
       "    }\n",
       "\n",
       "    .dataframe thead th {\n",
       "        text-align: right;\n",
       "    }\n",
       "</style>\n",
       "<table border=\"1\" class=\"dataframe\">\n",
       "  <thead>\n",
       "    <tr style=\"text-align: right;\">\n",
       "      <th></th>\n",
       "      <th>Unnamed: 0</th>\n",
       "      <th>Content ID</th>\n",
       "      <th>Type</th>\n",
       "      <th>Datetime</th>\n",
       "      <th>Category</th>\n",
       "      <th>Score</th>\n",
       "      <th>Month</th>\n",
       "      <th>Count</th>\n",
       "    </tr>\n",
       "  </thead>\n",
       "  <tbody>\n",
       "    <tr>\n",
       "      <th>0</th>\n",
       "      <td>1</td>\n",
       "      <td>97522e57-d9ab-4bd6-97bf-c24d952602d2</td>\n",
       "      <td>disgust</td>\n",
       "      <td>2020-11-07</td>\n",
       "      <td>Studying</td>\n",
       "      <td>0</td>\n",
       "      <td>11</td>\n",
       "      <td>3127705</td>\n",
       "    </tr>\n",
       "    <tr>\n",
       "      <th>1526</th>\n",
       "      <td>4</td>\n",
       "      <td>97522e57-d9ab-4bd6-97bf-c24d952602d2</td>\n",
       "      <td>disgust</td>\n",
       "      <td>2021-01-06</td>\n",
       "      <td>Studying</td>\n",
       "      <td>0</td>\n",
       "      <td>1</td>\n",
       "      <td>3265886</td>\n",
       "    </tr>\n",
       "    <tr>\n",
       "      <th>3052</th>\n",
       "      <td>35</td>\n",
       "      <td>97522e57-d9ab-4bd6-97bf-c24d952602d2</td>\n",
       "      <td>disgust</td>\n",
       "      <td>2021-04-09</td>\n",
       "      <td>Studying</td>\n",
       "      <td>0</td>\n",
       "      <td>4</td>\n",
       "      <td>3032796</td>\n",
       "    </tr>\n",
       "    <tr>\n",
       "      <th>4578</th>\n",
       "      <td>52</td>\n",
       "      <td>9f737e0a-3cdd-4d29-9d24-753f4e3be810</td>\n",
       "      <td>disgust</td>\n",
       "      <td>2021-03-28</td>\n",
       "      <td>healthy eating</td>\n",
       "      <td>0</td>\n",
       "      <td>3</td>\n",
       "      <td>3091762</td>\n",
       "    </tr>\n",
       "    <tr>\n",
       "      <th>6104</th>\n",
       "      <td>88</td>\n",
       "      <td>230c4e4d-70c3-461d-b42c-ec09396efb3f</td>\n",
       "      <td>disgust</td>\n",
       "      <td>2020-08-04</td>\n",
       "      <td>healthy eating</td>\n",
       "      <td>0</td>\n",
       "      <td>8</td>\n",
       "      <td>3247894</td>\n",
       "    </tr>\n",
       "  </tbody>\n",
       "</table>\n",
       "</div>"
      ],
      "text/plain": [
       "      Unnamed: 0                            Content ID     Type   Datetime  \\\n",
       "0              1  97522e57-d9ab-4bd6-97bf-c24d952602d2  disgust 2020-11-07   \n",
       "1526           4  97522e57-d9ab-4bd6-97bf-c24d952602d2  disgust 2021-01-06   \n",
       "3052          35  97522e57-d9ab-4bd6-97bf-c24d952602d2  disgust 2021-04-09   \n",
       "4578          52  9f737e0a-3cdd-4d29-9d24-753f4e3be810  disgust 2021-03-28   \n",
       "6104          88  230c4e4d-70c3-461d-b42c-ec09396efb3f  disgust 2020-08-04   \n",
       "\n",
       "            Category  Score  Month    Count  \n",
       "0           Studying      0     11  3127705  \n",
       "1526        Studying      0      1  3265886  \n",
       "3052        Studying      0      4  3032796  \n",
       "4578  healthy eating      0      3  3091762  \n",
       "6104  healthy eating      0      8  3247894  "
      ]
     },
     "execution_count": 64,
     "metadata": {},
     "output_type": "execute_result"
    }
   ],
   "source": [
    "data.head()"
   ]
  },
  {
   "cell_type": "code",
   "execution_count": 65,
   "id": "9264f9ba",
   "metadata": {},
   "outputs": [
    {
     "data": {
      "text/html": [
       "<div>\n",
       "<style scoped>\n",
       "    .dataframe tbody tr th:only-of-type {\n",
       "        vertical-align: middle;\n",
       "    }\n",
       "\n",
       "    .dataframe tbody tr th {\n",
       "        vertical-align: top;\n",
       "    }\n",
       "\n",
       "    .dataframe thead th {\n",
       "        text-align: right;\n",
       "    }\n",
       "</style>\n",
       "<table border=\"1\" class=\"dataframe\">\n",
       "  <thead>\n",
       "    <tr style=\"text-align: right;\">\n",
       "      <th></th>\n",
       "      <th>index</th>\n",
       "      <th>Unnamed: 0</th>\n",
       "      <th>Content ID</th>\n",
       "      <th>Type</th>\n",
       "      <th>Datetime</th>\n",
       "      <th>Category</th>\n",
       "      <th>Score</th>\n",
       "      <th>Month</th>\n",
       "      <th>Count</th>\n",
       "    </tr>\n",
       "  </thead>\n",
       "  <tbody>\n",
       "    <tr>\n",
       "      <th>0</th>\n",
       "      <td>0</td>\n",
       "      <td>1</td>\n",
       "      <td>97522e57-d9ab-4bd6-97bf-c24d952602d2</td>\n",
       "      <td>disgust</td>\n",
       "      <td>2020-11-07</td>\n",
       "      <td>Studying</td>\n",
       "      <td>0</td>\n",
       "      <td>11</td>\n",
       "      <td>3127705</td>\n",
       "    </tr>\n",
       "    <tr>\n",
       "      <th>1</th>\n",
       "      <td>1526</td>\n",
       "      <td>4</td>\n",
       "      <td>97522e57-d9ab-4bd6-97bf-c24d952602d2</td>\n",
       "      <td>disgust</td>\n",
       "      <td>2021-01-06</td>\n",
       "      <td>Studying</td>\n",
       "      <td>0</td>\n",
       "      <td>1</td>\n",
       "      <td>3265886</td>\n",
       "    </tr>\n",
       "    <tr>\n",
       "      <th>2</th>\n",
       "      <td>3052</td>\n",
       "      <td>35</td>\n",
       "      <td>97522e57-d9ab-4bd6-97bf-c24d952602d2</td>\n",
       "      <td>disgust</td>\n",
       "      <td>2021-04-09</td>\n",
       "      <td>Studying</td>\n",
       "      <td>0</td>\n",
       "      <td>4</td>\n",
       "      <td>3032796</td>\n",
       "    </tr>\n",
       "    <tr>\n",
       "      <th>3</th>\n",
       "      <td>4578</td>\n",
       "      <td>52</td>\n",
       "      <td>9f737e0a-3cdd-4d29-9d24-753f4e3be810</td>\n",
       "      <td>disgust</td>\n",
       "      <td>2021-03-28</td>\n",
       "      <td>healthy eating</td>\n",
       "      <td>0</td>\n",
       "      <td>3</td>\n",
       "      <td>3091762</td>\n",
       "    </tr>\n",
       "    <tr>\n",
       "      <th>4</th>\n",
       "      <td>6104</td>\n",
       "      <td>88</td>\n",
       "      <td>230c4e4d-70c3-461d-b42c-ec09396efb3f</td>\n",
       "      <td>disgust</td>\n",
       "      <td>2020-08-04</td>\n",
       "      <td>healthy eating</td>\n",
       "      <td>0</td>\n",
       "      <td>8</td>\n",
       "      <td>3247894</td>\n",
       "    </tr>\n",
       "    <tr>\n",
       "      <th>5</th>\n",
       "      <td>10682</td>\n",
       "      <td>166</td>\n",
       "      <td>3f8590c7-6ab2-4973-805a-90cdec355f05</td>\n",
       "      <td>disgust</td>\n",
       "      <td>2021-02-11</td>\n",
       "      <td>dogs</td>\n",
       "      <td>0</td>\n",
       "      <td>2</td>\n",
       "      <td>2941460</td>\n",
       "    </tr>\n",
       "    <tr>\n",
       "      <th>6</th>\n",
       "      <td>12208</td>\n",
       "      <td>214</td>\n",
       "      <td>b18cb63f-4c8e-44ee-a47f-541e95191d11</td>\n",
       "      <td>disgust</td>\n",
       "      <td>2021-05-27</td>\n",
       "      <td>public speaking</td>\n",
       "      <td>0</td>\n",
       "      <td>5</td>\n",
       "      <td>3286036</td>\n",
       "    </tr>\n",
       "    <tr>\n",
       "      <th>7</th>\n",
       "      <td>18312</td>\n",
       "      <td>296</td>\n",
       "      <td>0be59876-d70c-486c-8e0b-a06bef7a2cd6</td>\n",
       "      <td>disgust</td>\n",
       "      <td>2020-09-11</td>\n",
       "      <td>tennis</td>\n",
       "      <td>0</td>\n",
       "      <td>9</td>\n",
       "      <td>3107363</td>\n",
       "    </tr>\n",
       "    <tr>\n",
       "      <th>8</th>\n",
       "      <td>19838</td>\n",
       "      <td>300</td>\n",
       "      <td>0be59876-d70c-486c-8e0b-a06bef7a2cd6</td>\n",
       "      <td>disgust</td>\n",
       "      <td>2020-10-13</td>\n",
       "      <td>tennis</td>\n",
       "      <td>0</td>\n",
       "      <td>10</td>\n",
       "      <td>3155958</td>\n",
       "    </tr>\n",
       "    <tr>\n",
       "      <th>9</th>\n",
       "      <td>21364</td>\n",
       "      <td>304</td>\n",
       "      <td>0be59876-d70c-486c-8e0b-a06bef7a2cd6</td>\n",
       "      <td>disgust</td>\n",
       "      <td>2020-07-23</td>\n",
       "      <td>tennis</td>\n",
       "      <td>0</td>\n",
       "      <td>7</td>\n",
       "      <td>3179380</td>\n",
       "    </tr>\n",
       "    <tr>\n",
       "      <th>10</th>\n",
       "      <td>22890</td>\n",
       "      <td>316</td>\n",
       "      <td>81abd65a-3b76-4574-a0a7-db6bf7184ae2</td>\n",
       "      <td>disgust</td>\n",
       "      <td>2020-12-08</td>\n",
       "      <td>food</td>\n",
       "      <td>0</td>\n",
       "      <td>12</td>\n",
       "      <td>3214045</td>\n",
       "    </tr>\n",
       "    <tr>\n",
       "      <th>11</th>\n",
       "      <td>33572</td>\n",
       "      <td>398</td>\n",
       "      <td>a2e93b29-9259-4092-a4d7-62d5e823bb74</td>\n",
       "      <td>disgust</td>\n",
       "      <td>2021-06-09</td>\n",
       "      <td>public speaking</td>\n",
       "      <td>0</td>\n",
       "      <td>6</td>\n",
       "      <td>3106870</td>\n",
       "    </tr>\n",
       "  </tbody>\n",
       "</table>\n",
       "</div>"
      ],
      "text/plain": [
       "    index  Unnamed: 0                            Content ID     Type  \\\n",
       "0       0           1  97522e57-d9ab-4bd6-97bf-c24d952602d2  disgust   \n",
       "1    1526           4  97522e57-d9ab-4bd6-97bf-c24d952602d2  disgust   \n",
       "2    3052          35  97522e57-d9ab-4bd6-97bf-c24d952602d2  disgust   \n",
       "3    4578          52  9f737e0a-3cdd-4d29-9d24-753f4e3be810  disgust   \n",
       "4    6104          88  230c4e4d-70c3-461d-b42c-ec09396efb3f  disgust   \n",
       "5   10682         166  3f8590c7-6ab2-4973-805a-90cdec355f05  disgust   \n",
       "6   12208         214  b18cb63f-4c8e-44ee-a47f-541e95191d11  disgust   \n",
       "7   18312         296  0be59876-d70c-486c-8e0b-a06bef7a2cd6  disgust   \n",
       "8   19838         300  0be59876-d70c-486c-8e0b-a06bef7a2cd6  disgust   \n",
       "9   21364         304  0be59876-d70c-486c-8e0b-a06bef7a2cd6  disgust   \n",
       "10  22890         316  81abd65a-3b76-4574-a0a7-db6bf7184ae2  disgust   \n",
       "11  33572         398  a2e93b29-9259-4092-a4d7-62d5e823bb74  disgust   \n",
       "\n",
       "     Datetime         Category  Score  Month    Count  \n",
       "0  2020-11-07         Studying      0     11  3127705  \n",
       "1  2021-01-06         Studying      0      1  3265886  \n",
       "2  2021-04-09         Studying      0      4  3032796  \n",
       "3  2021-03-28   healthy eating      0      3  3091762  \n",
       "4  2020-08-04   healthy eating      0      8  3247894  \n",
       "5  2021-02-11             dogs      0      2  2941460  \n",
       "6  2021-05-27  public speaking      0      5  3286036  \n",
       "7  2020-09-11           tennis      0      9  3107363  \n",
       "8  2020-10-13           tennis      0     10  3155958  \n",
       "9  2020-07-23           tennis      0      7  3179380  \n",
       "10 2020-12-08             food      0     12  3214045  \n",
       "11 2021-06-09  public speaking      0      6  3106870  "
      ]
     },
     "execution_count": 65,
     "metadata": {},
     "output_type": "execute_result"
    }
   ],
   "source": [
    "data.reset_index()"
   ]
  },
  {
   "cell_type": "code",
   "execution_count": 67,
   "id": "c0ab9743",
   "metadata": {},
   "outputs": [
    {
     "data": {
      "image/png": "[encoded data removed]",
      "text/plain": [
       "<Figure size 2250x750 with 1 Axes>"
      ]
     },
     "metadata": {},
     "output_type": "display_data"
    }
   ],
   "source": [
    "fig = plt.figure(figsize=(15,5), dpi = 150)\n",
    "ax = plt.subplot()\n",
    "x = data[\"Month\"]\n",
    "y = data[\"Count\"]\n",
    "ax.set_xticks(np.arange(13))\n",
    "plt.title(\"Total Posts vs Month\")\n",
    "plt.xlabel(\"Month\")\n",
    "plt.ylabel(\"Posts\")\n",
    "\n",
    "plt.bar(x, y,color=colors) \n",
    "plt.show()"
   ]
  },
  {
   "cell_type": "markdown",
   "id": "d3d6c7f1",
   "metadata": {},
   "source": [
    "With respect to the bar plot, the total posts remains higher in the 5th month containing about 2138 post"
   ]
  },
  {
   "cell_type": "code",
   "execution_count": null,
   "id": "4bbc93b1",
   "metadata": {},
   "outputs": [],
   "source": []
  }
 ],
 "metadata": {
  "kernelspec": {
   "display_name": "Python 3 (ipykernel)",
   "language": "python",
   "name": "python3"
  },
  "language_info": {
   "codemirror_mode": {
    "name": "ipython",
    "version": 3
   },
   "file_extension": ".py",
   "mimetype": "text/x-python",
   "name": "python",
   "nbconvert_exporter": "python",
   "pygments_lexer": "ipython3",
   "version": "3.10.9"
  }
 },
 "nbformat": 4,
 "nbformat_minor": 5
}
